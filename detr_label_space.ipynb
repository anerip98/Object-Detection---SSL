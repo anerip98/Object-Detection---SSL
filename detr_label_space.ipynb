{
 "cells": [
  {
   "cell_type": "code",
   "execution_count": null,
   "metadata": {},
   "outputs": [],
   "source": [
    "'''\n",
    "Create label space for detr - training with focal loss\n",
    "'''"
   ]
  },
  {
   "cell_type": "code",
   "execution_count": null,
   "metadata": {},
   "outputs": [],
   "source": [
    "import json\n",
    "\n",
    "s = \"['dog', 'bird', 'car', 'pomegranate', 'snake', 'table', 'butterfly', 'lizard', 'seal', 'person', 'bookshelf', 'bowl', 'watercraft', 'lamp', 'motorcycle', 'bus', 'helmet', 'antelope', 'monkey', 'hat with a wide brim', 'lobster', 'bench', 'backpack', 'jellyfish', 'cup or mug', 'turtle', 'traffic light', 'artichoke', 'chair', 'tv or monitor', 'purse', 'sunglasses', 'dragonfly', 'cart', 'apple', 'fox', 'ray', 'red panda', 'strawberry', 'computer keyboard', 'cattle', 'banana', 'orange', 'guitar', 'microphone', 'dumbbell', 'wine bottle', 'fig', 'train', 'rabbit', 'miniskirt', 'tie', 'camel', 'airplane', 'domestic cat', 'ski', 'sheep', 'whale', 'pretzel', 'porcupine', 'flower pot', 'starfish', 'drum', 'cream', 'harp', 'bear', 'horse', 'tiger', 'frog', 'mushroom', 'otter', 'tape player', 'stove', 'nail', 'laptop', 'crutch', 'coffee maker', 'koala bear', 'pitcher', 'piano', 'baby bed', 'axe', 'hippopotamus', 'elephant', 'croquet ball', 'bicycle', 'swine', 'bagel', 'beaker', 'lemon', 'bathing cap', 'ladybug', 'zebra', 'bell pepper', 'skunk', 'sofa', 'goldfish', 'cucumber', 'salt or pepper shaker', 'violin']\"\n",
    "l = s.replace(\"['\",\"\").replace(\"']\",\"\").split(\"', '\")\n",
    "label2id = {}\n",
    "for text in l:\n",
    "    label2id[text] = str(len(label2id))\n",
    "label2id[\"N/A\"] = str(100)\n",
    "id2label = {v: k for k, v in label2id.items()}\n",
    "json.dumps(label2id)\n",
    "json.dumps(id2label)"
   ]
  }
 ],
 "metadata": {
  "interpreter": {
   "hash": "0b1c0d6ae42ef4ebbb0a0e12b3c83f202c0bcdb341a58249c6138a45e8d5665d"
  },
  "kernelspec": {
   "display_name": "Python 3",
   "language": "python",
   "name": "python3"
  },
  "language_info": {
   "codemirror_mode": {
    "name": "ipython",
    "version": 3
   },
   "file_extension": ".py",
   "mimetype": "text/x-python",
   "name": "python",
   "nbconvert_exporter": "python",
   "pygments_lexer": "ipython3",
   "version": "3.8.6"
  }
 },
 "nbformat": 4,
 "nbformat_minor": 2
}
